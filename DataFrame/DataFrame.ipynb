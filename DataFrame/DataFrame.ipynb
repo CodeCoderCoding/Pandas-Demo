{
 "cells": [
  {
   "cell_type": "code",
   "execution_count": 1,
   "metadata": {
    "collapsed": true
   },
   "outputs": [],
   "source": [
    "import pandas as pd"
   ]
  },
  {
   "cell_type": "code",
   "execution_count": 6,
   "outputs": [
    {
     "data": {
      "text/plain": "Alex      1\nBob       2\nCalvin    3\nDick      4\nElbert    5\ndtype: int64"
     },
     "execution_count": 6,
     "metadata": {},
     "output_type": "execute_result"
    }
   ],
   "source": [
    "id_dict = {'Alex': 1, 'Bob': 2, 'Calvin': 3, 'Dick': 4, 'Elbert': 5}\n",
    "id = pd.Series(id_dict)\n",
    "id"
   ],
   "metadata": {
    "collapsed": false
   }
  },
  {
   "cell_type": "code",
   "execution_count": 7,
   "outputs": [
    {
     "data": {
      "text/plain": "Alex      18\nBob       19\nCalvin    20\nDick      21\nElbert    22\ndtype: int64"
     },
     "execution_count": 7,
     "metadata": {},
     "output_type": "execute_result"
    }
   ],
   "source": [
    "age_dict={'Alex': 18, 'Bob': 19, 'Calvin': 20, 'Dick': 21, 'Elbert': 22}\n",
    "age = pd.Series(age_dict)\n",
    "age"
   ],
   "metadata": {
    "collapsed": false
   }
  },
  {
   "cell_type": "code",
   "execution_count": 9,
   "outputs": [
    {
     "data": {
      "text/plain": "        id  age\nAlex     1   18\nBob      2   19\nCalvin   3   20\nDick     4   21\nElbert   5   22",
      "text/html": "<div>\n<style scoped>\n    .dataframe tbody tr th:only-of-type {\n        vertical-align: middle;\n    }\n\n    .dataframe tbody tr th {\n        vertical-align: top;\n    }\n\n    .dataframe thead th {\n        text-align: right;\n    }\n</style>\n<table border=\"1\" class=\"dataframe\">\n  <thead>\n    <tr style=\"text-align: right;\">\n      <th></th>\n      <th>id</th>\n      <th>age</th>\n    </tr>\n  </thead>\n  <tbody>\n    <tr>\n      <th>Alex</th>\n      <td>1</td>\n      <td>18</td>\n    </tr>\n    <tr>\n      <th>Bob</th>\n      <td>2</td>\n      <td>19</td>\n    </tr>\n    <tr>\n      <th>Calvin</th>\n      <td>3</td>\n      <td>20</td>\n    </tr>\n    <tr>\n      <th>Dick</th>\n      <td>4</td>\n      <td>21</td>\n    </tr>\n    <tr>\n      <th>Elbert</th>\n      <td>5</td>\n      <td>22</td>\n    </tr>\n  </tbody>\n</table>\n</div>"
     },
     "execution_count": 9,
     "metadata": {},
     "output_type": "execute_result"
    }
   ],
   "source": [
    "df = pd.DataFrame({'id': id,'age': age})\n",
    "df"
   ],
   "metadata": {
    "collapsed": false
   }
  },
  {
   "cell_type": "code",
   "execution_count": 10,
   "outputs": [
    {
     "data": {
      "text/plain": "        id  age\nAlex     1   18\nBob      2   19\nCalvin   3   20\nDick     4   21\nElbert   5   22",
      "text/html": "<div>\n<style scoped>\n    .dataframe tbody tr th:only-of-type {\n        vertical-align: middle;\n    }\n\n    .dataframe tbody tr th {\n        vertical-align: top;\n    }\n\n    .dataframe thead th {\n        text-align: right;\n    }\n</style>\n<table border=\"1\" class=\"dataframe\">\n  <thead>\n    <tr style=\"text-align: right;\">\n      <th></th>\n      <th>id</th>\n      <th>age</th>\n    </tr>\n  </thead>\n  <tbody>\n    <tr>\n      <th>Alex</th>\n      <td>1</td>\n      <td>18</td>\n    </tr>\n    <tr>\n      <th>Bob</th>\n      <td>2</td>\n      <td>19</td>\n    </tr>\n    <tr>\n      <th>Calvin</th>\n      <td>3</td>\n      <td>20</td>\n    </tr>\n    <tr>\n      <th>Dick</th>\n      <td>4</td>\n      <td>21</td>\n    </tr>\n    <tr>\n      <th>Elbert</th>\n      <td>5</td>\n      <td>22</td>\n    </tr>\n  </tbody>\n</table>\n</div>"
     },
     "execution_count": 10,
     "metadata": {},
     "output_type": "execute_result"
    }
   ],
   "source": [
    "df.head(5)"
   ],
   "metadata": {
    "collapsed": false
   }
  },
  {
   "cell_type": "code",
   "execution_count": 11,
   "outputs": [
    {
     "name": "stdout",
     "output_type": "stream",
     "text": [
      "<class 'pandas.core.frame.DataFrame'>\n",
      "Index: 5 entries, Alex to Elbert\n",
      "Data columns (total 2 columns):\n",
      " #   Column  Non-Null Count  Dtype\n",
      "---  ------  --------------  -----\n",
      " 0   id      5 non-null      int64\n",
      " 1   age     5 non-null      int64\n",
      "dtypes: int64(2)\n",
      "memory usage: 292.0+ bytes\n"
     ]
    }
   ],
   "source": [
    "df.info()"
   ],
   "metadata": {
    "collapsed": false
   }
  },
  {
   "cell_type": "code",
   "execution_count": null,
   "outputs": [],
   "source": [],
   "metadata": {
    "collapsed": false
   }
  }
 ],
 "metadata": {
  "kernelspec": {
   "display_name": "Python 3",
   "language": "python",
   "name": "python3"
  },
  "language_info": {
   "codemirror_mode": {
    "name": "ipython",
    "version": 2
   },
   "file_extension": ".py",
   "mimetype": "text/x-python",
   "name": "python",
   "nbconvert_exporter": "python",
   "pygments_lexer": "ipython2",
   "version": "2.7.6"
  }
 },
 "nbformat": 4,
 "nbformat_minor": 0
}
