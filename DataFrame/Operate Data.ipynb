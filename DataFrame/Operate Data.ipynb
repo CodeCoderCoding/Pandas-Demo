{
 "cells": [
  {
   "cell_type": "markdown",
   "source": [
    "# 操作数据"
   ],
   "metadata": {
    "collapsed": false
   }
  },
  {
   "cell_type": "code",
   "execution_count": 14,
   "outputs": [],
   "source": [
    "import pandas as pd"
   ],
   "metadata": {
    "collapsed": false
   }
  },
  {
   "cell_type": "code",
   "execution_count": 15,
   "outputs": [
    {
     "name": "stdout",
     "output_type": "stream",
     "text": [
      "        id  age  English  math\n",
      "Alex     1   18       90    90\n",
      "Bob      2   19       91    91\n",
      "Calvin   3   20       92    92\n",
      "Dick     4   21       93    93\n",
      "Elbert   5   22       94    94\n"
     ]
    }
   ],
   "source": [
    "id_dict = {'Alex': 1, 'Bob': 2, 'Calvin': 3, 'Dick': 4, 'Elbert': 5}\n",
    "age_dict={'Alex': 18, 'Bob': 19, 'Calvin': 20, 'Dick': 21, 'Elbert': 22}\n",
    "English_dict={'Alex': 90, 'Bob': 91, 'Calvin':92, 'Dick':93, 'Elbert':94}\n",
    "Math_dict={'Alex': 90, 'Bob': 91, 'Calvin':92, 'Dick':93, 'Elbert':94}\n",
    "# 创建DataFrame\n",
    "df = pd.DataFrame({'id': id_dict,'age': age_dict, 'English': English_dict, 'math': Math_dict})\n",
    "print(df)"
   ],
   "metadata": {
    "collapsed": false
   }
  },
  {
   "cell_type": "markdown",
   "source": [
    "## 创建新列"
   ],
   "metadata": {
    "collapsed": false
   }
  },
  {
   "cell_type": "code",
   "execution_count": 16,
   "outputs": [
    {
     "name": "stdout",
     "output_type": "stream",
     "text": [
      "        id  age  English  math  sum\n",
      "Alex     1   18       90    90  180\n",
      "Bob      2   19       91    91  182\n",
      "Calvin   3   20       92    92  184\n",
      "Dick     4   21       93    93  186\n",
      "Elbert   5   22       94    94  188\n"
     ]
    }
   ],
   "source": [
    "df['sum']=df['English']+df['math'];\n",
    "print(df)"
   ],
   "metadata": {
    "collapsed": false
   }
  },
  {
   "cell_type": "code",
   "execution_count": 16,
   "outputs": [],
   "source": [],
   "metadata": {
    "collapsed": false
   }
  }
 ],
 "metadata": {
  "kernelspec": {
   "display_name": "Python 3",
   "language": "python",
   "name": "python3"
  },
  "language_info": {
   "codemirror_mode": {
    "name": "ipython",
    "version": 2
   },
   "file_extension": ".py",
   "mimetype": "text/x-python",
   "name": "python",
   "nbconvert_exporter": "python",
   "pygments_lexer": "ipython2",
   "version": "2.7.6"
  }
 },
 "nbformat": 4,
 "nbformat_minor": 0
}
