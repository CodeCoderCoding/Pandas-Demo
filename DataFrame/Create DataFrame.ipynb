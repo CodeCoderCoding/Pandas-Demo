{
 "cells": [
  {
   "cell_type": "markdown",
   "source": [
    "# DataFrame的创建"
   ],
   "metadata": {
    "collapsed": false
   }
  },
  {
   "cell_type": "code",
   "execution_count": 23,
   "outputs": [],
   "source": [
    "import pandas as pd"
   ],
   "metadata": {
    "collapsed": false
   }
  },
  {
   "cell_type": "markdown",
   "source": [
    "## 通过Series创建DataFrame"
   ],
   "metadata": {
    "collapsed": false
   }
  },
  {
   "cell_type": "code",
   "execution_count": 27,
   "outputs": [
    {
     "data": {
      "text/plain": "        id  age\nAlex     1   18\nBob      2   19\nCalvin   3   20\nDick     4   21\nElbert   5   22",
      "text/html": "<div>\n<style scoped>\n    .dataframe tbody tr th:only-of-type {\n        vertical-align: middle;\n    }\n\n    .dataframe tbody tr th {\n        vertical-align: top;\n    }\n\n    .dataframe thead th {\n        text-align: right;\n    }\n</style>\n<table border=\"1\" class=\"dataframe\">\n  <thead>\n    <tr style=\"text-align: right;\">\n      <th></th>\n      <th>id</th>\n      <th>age</th>\n    </tr>\n  </thead>\n  <tbody>\n    <tr>\n      <th>Alex</th>\n      <td>1</td>\n      <td>18</td>\n    </tr>\n    <tr>\n      <th>Bob</th>\n      <td>2</td>\n      <td>19</td>\n    </tr>\n    <tr>\n      <th>Calvin</th>\n      <td>3</td>\n      <td>20</td>\n    </tr>\n    <tr>\n      <th>Dick</th>\n      <td>4</td>\n      <td>21</td>\n    </tr>\n    <tr>\n      <th>Elbert</th>\n      <td>5</td>\n      <td>22</td>\n    </tr>\n  </tbody>\n</table>\n</div>"
     },
     "execution_count": 27,
     "metadata": {},
     "output_type": "execute_result"
    }
   ],
   "source": [
    "id_dict = {'Alex': 1, 'Bob': 2, 'Calvin': 3, 'Dick': 4, 'Elbert': 5}\n",
    "id = pd.Series(id_dict)\n",
    "age_dict={'Alex': 18, 'Bob': 19, 'Calvin': 20, 'Dick': 21, 'Elbert': 22}\n",
    "age = pd.Series(age_dict)\n",
    "# 通过series创建df\n",
    "dfBySeries = pd.DataFrame({'id': id,'age': age})\n",
    "dfBySeries"
   ],
   "metadata": {
    "collapsed": false
   }
  },
  {
   "cell_type": "markdown",
   "source": [
    "## 通过字典创建DataFrame"
   ],
   "metadata": {
    "collapsed": false
   }
  },
  {
   "cell_type": "code",
   "execution_count": 29,
   "outputs": [
    {
     "name": "stdout",
     "output_type": "stream",
     "text": [
      "<class 'pandas.core.frame.DataFrame'>\n",
      "Index: 5 entries, Alex to Elbert\n",
      "Data columns (total 2 columns):\n",
      " #   Column  Non-Null Count  Dtype\n",
      "---  ------  --------------  -----\n",
      " 0   id      5 non-null      int64\n",
      " 1   age     5 non-null      int64\n",
      "dtypes: int64(2)\n",
      "memory usage: 120.0+ bytes\n"
     ]
    }
   ],
   "source": [
    "id_dict = {'Alex': 1, 'Bob': 2, 'Calvin': 3, 'Dick': 4, 'Elbert': 5}\n",
    "age_dict={'Alex': 18, 'Bob': 19, 'Calvin': 20, 'Dick': 21, 'Elbert': 22}\n",
    "# 通过字典创建df\n",
    "dfByDict = pd.DataFrame({'id': id_dict,'age': age_dict})\n",
    "dfByDict"
   ],
   "metadata": {
    "collapsed": false
   }
  },
  {
   "cell_type": "markdown",
   "source": [],
   "metadata": {
    "collapsed": false
   }
  }
 ],
 "metadata": {
  "kernelspec": {
   "display_name": "Python 3",
   "language": "python",
   "name": "python3"
  },
  "language_info": {
   "codemirror_mode": {
    "name": "ipython",
    "version": 2
   },
   "file_extension": ".py",
   "mimetype": "text/x-python",
   "name": "python",
   "nbconvert_exporter": "python",
   "pygments_lexer": "ipython2",
   "version": "2.7.6"
  }
 },
 "nbformat": 4,
 "nbformat_minor": 0
}
