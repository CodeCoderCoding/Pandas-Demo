{
 "cells": [
  {
   "cell_type": "markdown",
   "source": [
    "# 工作项目实践demo"
   ],
   "metadata": {
    "collapsed": false
   }
  },
  {
   "cell_type": "code",
   "execution_count": 12,
   "outputs": [],
   "source": [
    "import pandas as pd\n",
    "import numpy as np\n",
    "from decimal import Decimal"
   ],
   "metadata": {
    "collapsed": false
   }
  },
  {
   "cell_type": "code",
   "execution_count": 13,
   "outputs": [
    {
     "name": "stdout",
     "output_type": "stream",
     "text": [
      "        id  age\n",
      "Alex     1   18\n",
      "Bob      2   19\n",
      "Calvin   3   20\n",
      "Dick     4   21\n",
      "Elbert   5   22\n"
     ]
    }
   ],
   "source": [
    "id_dict = {'Alex': 1, 'Bob': 2, 'Calvin': 3, 'Dick': 4, 'Elbert': 5}\n",
    "age_dict={'Alex': 18, 'Bob': 19, 'Calvin': 20, 'Dick': 21, 'Elbert': 22}\n",
    "# 通过数组创建DataFrame\n",
    "df = pd.DataFrame({'id': id_dict,'age': age_dict})\n",
    "print(df)"
   ],
   "metadata": {
    "collapsed": false
   }
  },
  {
   "cell_type": "code",
   "execution_count": 14,
   "outputs": [
    {
     "name": "stdout",
     "output_type": "stream",
     "text": [
      "[Decimal('18'), Decimal('19'), Decimal('20'), Decimal('21'), Decimal('22')]\n"
     ]
    }
   ],
   "source": [
    "ageArray=[Decimal(i) for i in df['age']]\n",
    "print(ageArray)"
   ],
   "metadata": {
    "collapsed": false
   }
  },
  {
   "cell_type": "code",
   "execution_count": 20,
   "outputs": [
    {
     "name": "stdout",
     "output_type": "stream",
     "text": [
      "{'index1': [Decimal('0'), Decimal('0'), Decimal('0'), Decimal('0'), Decimal('0'), Decimal('0'), Decimal('0'), Decimal('0'), Decimal('0'), Decimal('0'), Decimal('0'), Decimal('0'), Decimal('0')]}\n",
      "--------\n",
      "   index1\n",
      "0       0\n",
      "1       0\n",
      "2       0\n",
      "3       0\n",
      "4       0\n",
      "5       0\n",
      "6       0\n",
      "7       0\n",
      "8       0\n",
      "9       0\n",
      "10      0\n",
      "11      0\n",
      "12      0\n"
     ]
    }
   ],
   "source": [
    "temp=np.zeros(13)\n",
    "dict_by_array={}\n",
    "dict_by_array['index1']=[Decimal(i) for i in temp]\n",
    "print(dict_by_array)\n",
    "print(\"--------\")\n",
    "pdTemp1=pd.DataFrame.from_dict(dict_by_array)\n",
    "print(pdTemp1)"
   ],
   "metadata": {
    "collapsed": false
   }
  },
  {
   "cell_type": "code",
   "execution_count": null,
   "outputs": [],
   "source": [],
   "metadata": {
    "collapsed": false
   }
  }
 ],
 "metadata": {
  "kernelspec": {
   "display_name": "Python 3",
   "language": "python",
   "name": "python3"
  },
  "language_info": {
   "codemirror_mode": {
    "name": "ipython",
    "version": 2
   },
   "file_extension": ".py",
   "mimetype": "text/x-python",
   "name": "python",
   "nbconvert_exporter": "python",
   "pygments_lexer": "ipython2",
   "version": "2.7.6"
  }
 },
 "nbformat": 4,
 "nbformat_minor": 0
}
